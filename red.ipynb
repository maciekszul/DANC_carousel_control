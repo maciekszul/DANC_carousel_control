{
 "cells": [
  {
   "cell_type": "code",
   "execution_count": 16,
   "id": "6dd0bcd0",
   "metadata": {},
   "outputs": [],
   "source": [
    "import cv2\n",
    "import numpy as np\n",
    "import matplotlib.pylab as plt\n",
    "%matplotlib qt"
   ]
  },
  {
   "cell_type": "code",
   "execution_count": 76,
   "id": "f0321979",
   "metadata": {
    "scrolled": true
   },
   "outputs": [],
   "source": [
    "file = \"/home/mszul/red.mp4\"\n",
    "cap = cv2.VideoCapture(file)\n",
    "success, img = cap.read()\n",
    "fn = 0\n",
    "\n",
    "rois = (\n",
    "    [204, 190],\n",
    "    [208, 458],\n",
    "    [639, 108],\n",
    "    [704, 406]\n",
    ")\n",
    "\n",
    "rval = {\n",
    "    \"0\": [],\n",
    "    \"1\": [],\n",
    "    \"2\": [],\n",
    "    \"3\": [],\n",
    "}\n",
    "\n",
    "size_rect = 20\n",
    "\n",
    "while success:\n",
    "    success, img = cap.read()\n",
    "    try:\n",
    "        img = cv2.resize(img, (960, 540))\n",
    "        for ix, roi in enumerate(rois):\n",
    "            cv2.rectangle(img, (roi[0]-size_rect, roi[1]-size_rect), (roi[0]+size_rect, roi[1]+size_rect), (0, 255, 0), 3)\n",
    "            r = np.average(img[roi[1]-size_rect:roi[1]+size_rect, roi[0]-size_rect:roi[0]+size_rect, 2])\n",
    "            rval[str(ix)].append(r)\n",
    "            \n",
    "    except:\n",
    "        continue\n",
    "    fn += 1\n",
    "    cv2.imshow('frame', img)\n",
    "    cv2.waitKey(1)"
   ]
  },
  {
   "cell_type": "code",
   "execution_count": 80,
   "id": "22f4f203",
   "metadata": {},
   "outputs": [],
   "source": [
    "f, axes = plt.subplots(4, 1, figsize=(6,12), facecolor=\"gray\", gridspec_kw={\"wspace\":0.2})\n",
    "for ix, ax in enumerate(axes):\n",
    "    xxx = 2500\n",
    "    ax.plot(np.array(rval[str(ix)])[xxx:xxx+100])\n",
    "#     ax.plot(np.array(rval[str(ix)]))\n",
    "    ax.set_xticks(np.arange(0,100,2))\n",
    "    ax.grid(axis=\"x\")"
   ]
  },
  {
   "cell_type": "code",
   "execution_count": null,
   "id": "ed41efb3",
   "metadata": {},
   "outputs": [],
   "source": []
  }
 ],
 "metadata": {
  "kernelspec": {
   "display_name": "Python 3 (ipykernel)",
   "language": "python",
   "name": "python3"
  },
  "language_info": {
   "codemirror_mode": {
    "name": "ipython",
    "version": 3
   },
   "file_extension": ".py",
   "mimetype": "text/x-python",
   "name": "python",
   "nbconvert_exporter": "python",
   "pygments_lexer": "ipython3",
   "version": "3.9.6"
  }
 },
 "nbformat": 4,
 "nbformat_minor": 5
}
